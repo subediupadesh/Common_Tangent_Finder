{
 "cells": [
  {
   "cell_type": "code",
   "execution_count": 1,
   "id": "0c4d078f-848b-4f5b-a0cc-2dfaadd47c5a",
   "metadata": {
    "tags": []
   },
   "outputs": [
    {
     "data": {
      "text/plain": [
       "'Authored By UPADESH SUBEDI\\nDate: 28th Jan 2023\\n\\nContact: upadesh.subedi@gmail.com'"
      ]
     },
     "execution_count": 1,
     "metadata": {},
     "output_type": "execute_result"
    }
   ],
   "source": [
    "\"\"\"Authored By UPADESH SUBEDI\n",
    "Date: 28th Jan 2023\n",
    "\n",
    "Contact: upadesh.subedi@gmail.com\"\"\""
   ]
  },
  {
   "cell_type": "code",
   "execution_count": 2,
   "id": "04bb835e-c22a-46b5-b7e8-dcda55095609",
   "metadata": {
    "tags": []
   },
   "outputs": [],
   "source": [
    "import numpy as np\n",
    "import sympy as sym\n",
    "from sympy import symbols, I, expand, Poly, simplify\n",
    "import matplotlib.pyplot as plt\n",
    "\n",
    "from IPython.display import display\n",
    "from __future__ import print_function\n",
    "from ipywidgets import interact, interactive, fixed, interact_manual\n",
    "import ipywidgets as widgets"
   ]
  },
  {
   "cell_type": "markdown",
   "id": "7b5b2164-1321-4b02-b01b-99adf9e1597e",
   "metadata": {
    "tags": []
   },
   "source": [
    "# Finding & Plotting the Parabola curve via Interactive Window"
   ]
  },
  {
   "cell_type": "code",
   "execution_count": 3,
   "id": "d09b2b6a-6b4c-42bb-8f17-317a600ffb33",
   "metadata": {
    "tags": []
   },
   "outputs": [
    {
     "data": {
      "text/plain": [
       "' For Parabola in form A(x-x1)^2 + B(x-x2) + C form \\n\\n# Parabolas and Common tangent equation are: \\n# P0 = A0(x-x01)^2 + B0(x-x02) + C0\\n# P1 = A1(x-x11)^2 + B1(x-x12) + C1\\n# P2 = A2(x-x21)^2 + B2(x-x22) + C2\\n# L = mx + c'"
      ]
     },
     "execution_count": 3,
     "metadata": {},
     "output_type": "execute_result"
    }
   ],
   "source": [
    "\"\"\" For Parabola in form A(x-x1)^2 + B(x-x2) + C form \n",
    "\n",
    "# Parabolas and Common tangent equation are: \n",
    "# P0 = A0(x-x01)^2 + B0(x-x02) + C0\n",
    "# P1 = A1(x-x11)^2 + B1(x-x12) + C1\n",
    "# P2 = A2(x-x21)^2 + B2(x-x22) + C2\n",
    "# L = mx + c\"\"\"\n",
    "\n",
    "## Initial Guess Points \n",
    "# A0, B0, C0, x01, x02, =15, 0, -0.60236, 0.6667, 0.6667, \n",
    "# A1, B1, C1, x11, x12, = 0.7069,  0.1721, -0.7108, 0.892, -0.2,\n",
    "# A2, B2, C2, x21, x22 = 4.1335, 0.0123, -0.31477, 0.0616, 0.2\n"
   ]
  },
  {
   "cell_type": "code",
   "execution_count": 4,
   "id": "bfc8ff33-2a05-4d69-88dd-a342c05867ac",
   "metadata": {
    "tags": []
   },
   "outputs": [
    {
     "data": {
      "application/vnd.jupyter.widget-view+json": {
       "model_id": "99837abb89ce4f409dda06c450843347",
       "version_major": 2,
       "version_minor": 0
      },
      "text/plain": [
       "Output()"
      ]
     },
     "metadata": {},
     "output_type": "display_data"
    },
    {
     "data": {
      "application/vnd.jupyter.widget-view+json": {
       "model_id": "817b4b827e4b48d5bb3386322ad78c65",
       "version_major": 2,
       "version_minor": 0
      },
      "text/plain": [
       "HBox(children=(FloatSlider(value=15.0, description='A0:', max=25.0, min=-25.0, readout_format='.3f', step=0.00…"
      ]
     },
     "metadata": {},
     "output_type": "display_data"
    },
    {
     "data": {
      "application/vnd.jupyter.widget-view+json": {
       "model_id": "9430355b964444dd936f7b37a31f1c91",
       "version_major": 2,
       "version_minor": 0
      },
      "text/plain": [
       "HBox(children=(FloatSlider(value=0.7069, description='A1:', max=25.0, min=-25.0, readout_format='.3f', step=0.…"
      ]
     },
     "metadata": {},
     "output_type": "display_data"
    },
    {
     "data": {
      "application/vnd.jupyter.widget-view+json": {
       "model_id": "aefb60603f4448668a931a5f60ebdd6a",
       "version_major": 2,
       "version_minor": 0
      },
      "text/plain": [
       "HBox(children=(FloatSlider(value=4.1335, description='A2:', max=25.0, min=-25.0, readout_format='.3f', step=0.…"
      ]
     },
     "metadata": {},
     "output_type": "display_data"
    }
   ],
   "source": [
    "A0 = widgets.FloatSlider(description='A0:',  value=15, min=-25, max=25, step=0.0001, continuous_update=True, orientation='horizontal', readout_format='.3f',  readout=True,disabled=False)\n",
    "B0 = widgets.FloatSlider(description='B0:',  value=0, min=-5, max=5, step=0.0001, continuous_update=True, orientation='horizontal', readout_format='.3f',  readout=True,disabled=False)\n",
    "C0 = widgets.FloatSlider(description='C0:',  value=-0.602, min=-5, max=5, step=0.0001, continuous_update=True, orientation='horizontal', readout_format='.3f',  readout=True,disabled=False)\n",
    "x01 = widgets.FloatSlider(description='x01:',value=0.667,  min=-1, max=1,  step=0.0001, continuous_update=True, orientation='horizontal', readout_format='.3f',  readout=True,disabled=False)\n",
    "x02 = widgets.FloatSlider(description='x02:',value=0.667,  min=-1, max=1,  step=0.0001, continuous_update=True, orientation='horizontal', readout_format='.3f',  readout=True,disabled=False)\n",
    "\n",
    "A1 = widgets.FloatSlider(description='A1:',  value=0.7069, min=-25, max=25, step=0.0001, continuous_update=True, orientation='horizontal', readout_format='.3f',  readout=True,disabled=False)\n",
    "B1 = widgets.FloatSlider(description='B1:',  value=0.1721, min=-5, max=5, step=0.0001, continuous_update=True, orientation='horizontal', readout_format='.3f',  readout=True,disabled=False)\n",
    "C1 = widgets.FloatSlider(description='C1:',  value=-0.7108, min=-5, max=5, step=0.0001, continuous_update=True, orientation='horizontal', readout_format='.3f',  readout=True,disabled=False)\n",
    "x11 = widgets.FloatSlider(description='x11:',value=0.892,  min=-1, max=1,  step=0.0001, continuous_update=True, orientation='horizontal', readout_format='.3f',  readout=True,disabled=False)\n",
    "x12 = widgets.FloatSlider(description='x12:',value=-0.2,  min=-1, max=1,  step=0.0001, continuous_update=True, orientation='horizontal', readout_format='.3f',  readout=True,disabled=False)\n",
    "\n",
    "A2 = widgets.FloatSlider(description='A2:',  value=4.1335, min=-25, max=25, step=0.0001, continuous_update=True, orientation='horizontal', readout_format='.3f',  readout=True,disabled=False)\n",
    "B2 = widgets.FloatSlider(description='B2:',  value=0.0123, min=-5, max=5, step=0.0001, continuous_update=True, orientation='horizontal', readout_format='.3f',  readout=True,disabled=False)\n",
    "C2 = widgets.FloatSlider(description='C2:',  value=-0.31477, min=-5, max=5, step=0.0001, continuous_update=True, orientation='horizontal', readout_format='.3f',  readout=True,disabled=False)\n",
    "x21 = widgets.FloatSlider(description='x21:',value=0.0616,  min=-1, max=1,  step=0.0001, continuous_update=True, orientation='horizontal', readout_format='.3f',  readout=True,disabled=False)\n",
    "x22 = widgets.FloatSlider(description='x22:',value=0.2,  min=-1, max=1,  step=0.0001, continuous_update=True, orientation='horizontal', readout_format='.3f',  readout=True,disabled=False)\n",
    "\n",
    "\n",
    "ui0 = widgets.HBox([A0, B0, C0, x01, x02])\n",
    "ui1 = widgets.HBox([A1, B1, C1, x11, x12])\n",
    "ui2 = widgets.HBox([A2, B2, C2, x21, x22])\n",
    "\n",
    "\n",
    "def Parabola(A0, B0, C0, x01, x02, A1, B1, C1, x11, x12, A2, B2, C2, x21, x22):\n",
    "    x = np.linspace(0, 1, 1000)\n",
    "    y0 = A0*(x-x01)**2 + B0*(x-x02) + C0\n",
    "    y1 = A1*(x-x11)**2 + B1*(x-x12) + C1\n",
    "    y2 = A2*(x-x21)**2 + B2*(x-x22) + C2\n",
    "    \n",
    "    plt.plot(x, y0, linewidth=3, ls='-', color= 'green', label =\"1$^{st}$ Parabola\")\n",
    "    plt.plot(x, y1, linewidth=3, ls='-', color= 'red', label =\"2$^{nd}$ Parabola\")\n",
    "    plt.plot(x, y2, linewidth=3, ls='-', color= 'blue', label =\"3$^{rd}$ Parabola\")\n",
    "    \n",
    "    plt.xlim(0,1)\n",
    "    plt.ylim(-1,0)\n",
    "    plt.legend(loc='lower right')\n",
    "    \n",
    "    plt.title(loc='center', pad = 30.2,  label='Plotting Parabolas')\n",
    "    plt.text(0,0.01, 'Parabolas in the form of : $A(x-xi)^2+B(x-xj)+C$')\n",
    "    plt.xlabel('X Value')\n",
    "    plt.ylabel('Y Value')\n",
    "    plt.grid()\n",
    "\n",
    "    return()\n",
    "\n",
    "out = widgets.interactive_output(Parabola, {\"A0\" : A0, \"B0\" : B0, \"C0\" : C0, \"x01\" : x01, \"x02\" : x02, \"A1\" : A1, \"B1\" : B1, \"C1\" : C1, \"x11\" : x11, \"x12\" : x12, \"A2\" : A2, \"B2\" : B2, \"C2\" : C2, \"x21\" : x21, \"x22\" : x22})\n",
    "display(out,ui0, ui1, ui2, )"
   ]
  },
  {
   "cell_type": "markdown",
   "id": "ab401130-f12e-45a2-b848-7107bd51935a",
   "metadata": {
    "tags": []
   },
   "source": [
    "# Finding common tangent"
   ]
  },
  {
   "cell_type": "code",
   "execution_count": 5,
   "id": "f5e78097-91c0-4f34-aea6-c4c3ba166f69",
   "metadata": {
    "tags": []
   },
   "outputs": [
    {
     "data": {
      "text/latex": [
       "$\\displaystyle y = 15.0 x^{2} - 20.01 x + 6.07133500000001$"
      ],
      "text/plain": [
       "Eq(y, 15.0*x**2 - 20.01*x + 6.07133500000001)"
      ]
     },
     "metadata": {},
     "output_type": "display_data"
    },
    {
     "data": {
      "text/latex": [
       "$\\displaystyle y = 0.706900000000001 x^{2} - 1.0890096 x - 0.113925118399999$"
      ],
      "text/plain": [
       "Eq(y, 0.706900000000001*x**2 - 1.0890096*x - 0.113925118399999)"
      ]
     },
     "metadata": {},
     "output_type": "display_data"
    },
    {
     "data": {
      "text/latex": [
       "$\\displaystyle y = 4.13350000000001 x^{2} - 0.4969472 x - 0.30157518624$"
      ],
      "text/plain": [
       "Eq(y, 4.13350000000001*x**2 - 0.4969472*x - 0.30157518624)"
      ]
     },
     "metadata": {},
     "output_type": "display_data"
    }
   ],
   "source": [
    "x, y, m, c  = symbols('x, y, m, c') \n",
    "\n",
    "L = m * x + c   ### It is the common tangent between 2 parabolas whose eqn is to find\n",
    "\n",
    "P0 = expand(A0.value*(x-x01.value)**2 + B0.value*(x-x02.value) + C0.value)  # First Parabola in Ax^2 + Bx + C form\n",
    "P1 = expand(A1.value*(x-x11.value)**2 + B1.value*(x-x12.value) + C1.value)  # Second Parabola  in Ax^2 + Bx + C form\n",
    "P2 = expand(A2.value*(x-x21.value)**2 + B2.value*(x-x22.value) + C2.value)  # Third Parabola  in Ax^2 + Bx + C form\n",
    "\n",
    "eq0 = sym.Eq(y, P0)  #eq0 ==> Equation 0 i.e. First Parabola in format y = Ax^2 + Bx + C\n",
    "eq1 = sym.Eq(y, P1)  #eq1 ==> Equation 1 i.e. Second Parabola in format y = Ax^2 + Bx + C\n",
    "eq2 = sym.Eq(y, P2)  #eq2 ==> Equation 2 i.e. Third Parabola in format y = Ax^2 + Bx + C\n",
    "\n",
    "display(eq0, eq1, eq2) \n",
    "\n",
    "coeffs0 = Poly(P0, x).coeffs()  # Coefficients of First Parabola P0 \n",
    "coeffs1 = Poly(P1, x).coeffs()  # Coefficients of Second Parabola P1  \n",
    "coeffs2 = Poly(P2, x).coeffs()  # Coefficients of Third Parabola P2  "
   ]
  },
  {
   "cell_type": "code",
   "execution_count": 6,
   "id": "f7c166f0-4aac-4b5b-a914-0f58c48cc1af",
   "metadata": {
    "tags": []
   },
   "outputs": [],
   "source": [
    "a0, b0, c0 =  coeffs0[0], coeffs0[1], coeffs0[2]   # First Parabola's coefficients a0 ==> A, b0 ==> B, c0 ==>c\n",
    "a1, b1, c1 =  coeffs1[0], coeffs1[1], coeffs1[2]\n",
    "a2, b2, c2 =  coeffs2[0], coeffs2[1], coeffs2[2]"
   ]
  },
  {
   "cell_type": "markdown",
   "id": "794bdad7-9e8a-4fd4-8395-fab5884b7bcf",
   "metadata": {
    "tags": []
   },
   "source": [
    "### At point of intersection between line and parabola, we can replace 'y' of parabola with 'y' of line as:\n",
    "### $y ==> mx+c = Ax^2+Bx+C$\n",
    "### $y ==> Ax^2 + x(B-m) + (C-c)$ \n",
    "This equation has 2 roots for x\n",
    "## $ x = \\frac{-\\beta \\, \\mp \\sqrt{\\beta ^2 - 4 \\alpha \\gamma}}{2\\alpha}$\n",
    "\n",
    "For a line to touch the parabola at only one point i.e. to be tangent to patabola:\n",
    "\n",
    "The (line) substituted (to parabola) equation should have exactly one solution, which makes the discriminant to be zero. i.e.\n",
    "\n",
    "## $\\beta^2 - 4\\alpha \\gamma = 0 $\n",
    "\n",
    "### In our case \n",
    "## $ \\alpha = A $\n",
    "## $ \\beta = (B-m) $\n",
    "## $ \\gamma = (C-c) $\n",
    "\n",
    "So,\n",
    "\n",
    "### $\\beta^2 - 4\\alpha \\gamma$ == $ (B-m)^2 - 4A(C-c) = 0 $"
   ]
  },
  {
   "cell_type": "code",
   "execution_count": 7,
   "id": "94d8c7c7-ab17-4366-b7d0-545eeee28f2d",
   "metadata": {
    "tags": []
   },
   "outputs": [],
   "source": [
    "## This function returns the equation of discriminant i.e. beta^2 - 4 * alpha * gamma as in above\n",
    "\n",
    "def calculate(A,B,C):\n",
    "    m, c = symbols('m, c') \n",
    "    alpha = A\n",
    "    beta  = B - m\n",
    "    gamma = C - c\n",
    "    discriminant = beta**2 - 4* alpha * gamma\n",
    "    equation = sym.Eq(discriminant,0)\n",
    "    return equation"
   ]
  },
  {
   "cell_type": "markdown",
   "id": "ebd6d25c-24a2-466c-a478-9116900dd142",
   "metadata": {
    "tags": []
   },
   "source": [
    "# First Calculation in the code \n",
    "# Tangent Between First and Second Parabola (P0 & P1)"
   ]
  },
  {
   "cell_type": "code",
   "execution_count": 8,
   "id": "2171feaf-ad7e-40b0-862e-5def1ff69f50",
   "metadata": {
    "tags": []
   },
   "outputs": [
    {
     "data": {
      "text/latex": [
       "$\\displaystyle 60.0 c + 400.4001 \\left(- 0.0499750124937531 m - 1\\right)^{2} - 364.2801 = 0$"
      ],
      "text/plain": [
       "Eq(60.0*c + 400.4001*(-0.0499750124937531*m - 1)**2 - 364.2801, 0)"
      ]
     },
     "metadata": {},
     "output_type": "display_data"
    },
    {
     "data": {
      "text/latex": [
       "$\\displaystyle 2.8276 c + 1.18594190889216 \\left(- 0.918265550643446 m - 1\\right)^{2} + 0.322134664787837 = 0$"
      ],
      "text/plain": [
       "Eq(2.8276*c + 1.18594190889216*(-0.918265550643446*m - 1)**2 + 0.322134664787837, 0)"
      ]
     },
     "metadata": {},
     "output_type": "display_data"
    }
   ],
   "source": [
    "D0 = calculate(a0,b0,c0)   ## Discriminant from 1st Parabola\n",
    "D1 = calculate(a1,b1,c1)   ## Discriminant from 2st Parabola\n",
    "\n",
    "display(D0, D1)"
   ]
  },
  {
   "cell_type": "markdown",
   "id": "7ac4c7f9-14f8-4021-a205-a5a82d6eb2e3",
   "metadata": {},
   "source": [
    "### A line is common tangent to 2 curves if the slope and intercept of tangents to the curves individually is exactly same.\n",
    "### That means the value of slope of line (m) and intercept (c) is same in both equation of Discriminants, hence solving for m and c  "
   ]
  },
  {
   "cell_type": "code",
   "execution_count": 9,
   "id": "e64932a1-0084-430c-9785-b79e2d133754",
   "metadata": {
    "tags": []
   },
   "outputs": [
    {
     "name": "stdout",
     "output_type": "stream",
     "text": [
      "[(-0.629900387300141, -0.188469349969487), (0.323448323017376, -0.819483678413636)]\n"
     ]
    }
   ],
   "source": [
    "result = sym.solve([D0,D1],(m,c))\n",
    "print(result)"
   ]
  },
  {
   "cell_type": "markdown",
   "id": "226a7437-6c24-44c4-9f09-e36d8a5f71c9",
   "metadata": {},
   "source": [
    "### As, the discriminant is in quadratic form it gives rise to 2 solution for slope (m) and intercept (c)\n",
    "### There are 2 common tangents for two curves. Only 1 of 2 is thermodynamically significant"
   ]
  },
  {
   "cell_type": "code",
   "execution_count": 10,
   "id": "a3abc06e-7fcf-4b96-a0dd-885f8a605281",
   "metadata": {
    "tags": []
   },
   "outputs": [],
   "source": [
    "## Here 1st Calculation in this code is done between First Parabola P0 & Second Parabola P1\n",
    "\n",
    "m00, m01 =  result[0][0], result[1][0]   ## m01 == > '1' --> Second Slope of '0' First Calculation of slope in this code \n",
    "c00, c01 = result[0][1], result[1][1]\n",
    "\n",
    "## 2 sets of common tangents lines equations are\n",
    "L00 = m00 * x + c00\n",
    "L01 = m01 * x + c01"
   ]
  },
  {
   "cell_type": "markdown",
   "id": "973acd55-04e0-4789-bcfc-674ab6a0ee79",
   "metadata": {
    "tags": []
   },
   "source": [
    "## At the point of intersection between tangent and curve, the equation of tangent must satisfy eq of curve.\n",
    "\n",
    "## $y = mx + c$ and $y = Ax^2+Bx+C$ should be equal \n",
    "\n",
    "## $ y_{eq} ==> mx_{eq}+ c = Ax_{eq}^2+Bx_{eq}+C$\n",
    "\n",
    "## $ y_{eq} ==> Ax_{eq}^2+Bx_{eq}+C -(mx_{eq}+ c) $\n",
    "\n",
    "## $ Ax_{eq}^2 + x_{eq}(B-m) + (C-c) = 0 $\n",
    "\n",
    "Now $x_{eq}$ has 2 roots i.e. \n",
    "\n",
    "## $ x_{eq} = \\frac{B \\, \\mp \\sqrt{B^2-4AC}}{2A}$\n",
    "\n",
    "Similarly by substituting $x_{eq}$ in $y = mx_{eq}+c$, \n",
    "\n",
    "We get,\n",
    "\n",
    "## $ y_{eq} = m \\frac{B \\, \\mp \\sqrt{B^2-4AC}}{2A} + c $\n",
    "\n",
    "\n",
    "Then we get 2 set of ($x_{eq}$, $y_{eq}$) points for 2 common tangents\n",
    "\n",
    "\n",
    "## X equilibrium points notation: x_ab_c\n",
    "##### a ==> X eq at Parabola\n",
    "##### b ==> Tangent to Parabola\n",
    "##### c ==> 1st or 2nd Point in Parabola a \n",
    "\n",
    "### Eg. x_20_1 Means 1st equilibirum point on parabola 2 for a tangent going from Parabola 2 to Parabola 0"
   ]
  },
  {
   "cell_type": "code",
   "execution_count": 11,
   "id": "9c40c67a-d897-4b98-8feb-25ba3b256daa",
   "metadata": {
    "tags": []
   },
   "outputs": [
    {
     "name": "stdout",
     "output_type": "stream",
     "text": [
      "Two contact points of 2 Tangents to Parabola 1 are: \n",
      " (x1,y1)= (0.646003280786347, -0.595387066733969) \n",
      " (x2,y2)= (0.677781582555141, -0.600256362164112)\n"
     ]
    }
   ],
   "source": [
    "## 2 set of x_eq & y_eq points at Parabola 1\n",
    "\n",
    "eq_subs_00  = sym.Eq(P0-L00,0)    ## Equation after substituion of Tangent 1 in Parabola 1 as shown above\n",
    "eq_subs_01  = sym.Eq(P0-L01,0)    ## Equation after substituion of Tangent 2 in Parabola 1\n",
    "\n",
    "x_eq_01_0 = sym.solve([eq_subs_00],(x))   ## x_eq i.e. x-Point where Tangent 1 meet Parabola 1 \n",
    "x_eq_01_0 = sym.re(x_eq_01_0[0][0])         ## Taking real part if complex number arises in case \n",
    "y_eq_01_0 = m00 *x_eq_01_0 + c00              ## y_eq i.e. y-Point where Tangent 1 meet Parabola 1\n",
    "\n",
    "x_eq_01_1 = sym.solve([eq_subs_01],(x))   ## x_eq i.e. x-Point where Tangent 2 meet Parabola 1 \n",
    "x_eq_01_1 = sym.re(x_eq_01_1[0][0])         ## Taking real part if complex number arises in case \n",
    "y_eq_01_1 = m01 *x_eq_01_1 + c01               ## y_eq i.e. y-Point where Tangent 2 meet Parabola 1\n",
    "\n",
    "print(f\"Two contact points of 2 Tangents to Parabola 1 are: \\n (x1,y1)= ({x_eq_01_0}, {y_eq_01_0}) \\n (x2,y2)= ({x_eq_01_1}, {y_eq_01_1})\")\n"
   ]
  },
  {
   "cell_type": "code",
   "execution_count": 12,
   "id": "223ced28-5112-4913-a16c-0815b4a47c8a",
   "metadata": {
    "tags": []
   },
   "outputs": [
    {
     "name": "stdout",
     "output_type": "stream",
     "text": [
      "Two contact points of 2 Tangents to Parabola 2 are: \n",
      " (x1,y1)= (0.324734200523313, -0.393019548648723) \n",
      " (x2,y2)= (0.999050666762077, -0.496342415640050)\n"
     ]
    }
   ],
   "source": [
    "## 2 set of x_eq & y_eq points at Parabola 2\n",
    "\n",
    "eq_subs_10  = sym.Eq(P1-L00,0)    ## Equation after substituion of Tangent 1 in Parabola 2 as shown above\n",
    "eq_subs_11  = sym.Eq(P1-L01,0)    ## Equation after substituion of Tangent 2 in Parabola 2\n",
    "\n",
    "x_eq_10_0 = sym.solve([eq_subs_10],(x))   ## x_eq i.e. x-Point where Tangent 1 meet Parabola 2 \n",
    "x_eq_10_0 = sym.re(x_eq_10_0[0][0])         ## Taking real part if complex number arises in case \n",
    "y_eq_10_0 = m00 *x_eq_10_0 + c00              ## y_eq i.e. y-Point where Tangent 1 meet Parabola 2\n",
    "\n",
    "x_eq_10_1 = sym.solve([eq_subs_11],(x))   ## x_eq i.e. x-Point where Tangent 2 meet Parabola 2\n",
    "x_eq_10_1 = sym.re(x_eq_10_1[0][0])         ## Taking real part if complex number arises in case \n",
    "y_eq_10_1 = m01 *x_eq_10_1 + c01              ## y_eq i.e. y-Point where Tangent 2 meet Parabola 2\n",
    "\n",
    "print(f\"Two contact points of 2 Tangents to Parabola 2 are: \\n (x1,y1)= ({x_eq_10_0}, {y_eq_10_0}) \\n (x2,y2)= ({x_eq_10_1}, {y_eq_10_1})\")"
   ]
  },
  {
   "cell_type": "code",
   "execution_count": 13,
   "id": "870b6dbc-f4e0-4a01-8b2c-359b4cc78a9c",
   "metadata": {
    "tags": []
   },
   "outputs": [
    {
     "name": "stdout",
     "output_type": "stream",
     "text": [
      "2 equilibrium points from 1st tangent to Both Parabolas: (x_eq1, x_eq2) = (0.646, 0.325) \n",
      "2 equilibrium points from 2nd tangent to Both Parabolas: (x_eq1, x_eq2) = (0.678, 0.999) \n"
     ]
    }
   ],
   "source": [
    "## The contanct points of 2 Tangents at 2 curves are:\n",
    "\n",
    "print(f\"2 equilibrium points from 1st tangent to Both Parabolas: (x_eq1, x_eq2) = ({round(x_eq_01_0,3)}, {round(x_eq_10_0,3)}) \")\n",
    "print(f\"2 equilibrium points from 2nd tangent to Both Parabolas: (x_eq1, x_eq2) = ({round(x_eq_01_1,3)}, {round(x_eq_10_1,3)}) \")"
   ]
  },
  {
   "cell_type": "markdown",
   "id": "4d000d45-2de7-45f7-bfba-dc98eda81852",
   "metadata": {
    "tags": []
   },
   "source": [
    "# Second Calculation in the code\n",
    "# Tangent Between Second and Third Parabola (P1 & P2)"
   ]
  },
  {
   "cell_type": "code",
   "execution_count": 14,
   "id": "e375af42-f0a3-4bbe-ace2-2fca5df510ce",
   "metadata": {
    "tags": []
   },
   "outputs": [
    {
     "data": {
      "text/latex": [
       "$\\displaystyle 2.8276 c + 1.18594190889216 \\left(- 0.918265550643446 m - 1\\right)^{2} + 0.322134664787837 = 0$"
      ],
      "text/plain": [
       "Eq(2.8276*c + 1.18594190889216*(-0.918265550643446*m - 1)**2 + 0.322134664787837, 0)"
      ]
     },
     "metadata": {},
     "output_type": "display_data"
    },
    {
     "data": {
      "text/latex": [
       "$\\displaystyle 16.534 c + \\left(- m - 0.4969472\\right)^{2} + 4.98624412929217 = 0$"
      ],
      "text/plain": [
       "Eq(16.534*c + (-m - 0.4969472)**2 + 4.98624412929217, 0)"
      ]
     },
     "metadata": {},
     "output_type": "display_data"
    }
   ],
   "source": [
    "D1 = calculate(a1,b1,c1)   ## Discriminant from 2nd Parabola\n",
    "D2 = calculate(a2,b2,c2)   ## Discriminant from 3rd Parabola\n",
    "\n",
    "display(D1, D2)"
   ]
  },
  {
   "cell_type": "code",
   "execution_count": 15,
   "id": "61788e6a-313f-42f6-a398-af5c7e777250",
   "metadata": {
    "tags": []
   },
   "outputs": [
    {
     "name": "stdout",
     "output_type": "stream",
     "text": [
      "[(-2.06396636739421, -0.450090310891074), (-0.358335159437055, -0.302737234007572)]\n"
     ]
    }
   ],
   "source": [
    "result = sym.solve([D1,D2],(m,c))\n",
    "print(result)"
   ]
  },
  {
   "cell_type": "code",
   "execution_count": 16,
   "id": "f5b3cea7-0886-4d4e-97fe-30f98604fa43",
   "metadata": {
    "tags": []
   },
   "outputs": [],
   "source": [
    "m10, m11 =  result[0][0], result[1][0]\n",
    "c10, c11 = result[0][1], result[1][1]\n",
    "\n",
    "## 2 sets of common tangents lines equations are\n",
    "L10 = m10 * x + c10\n",
    "L11 = m11 * x + c11"
   ]
  },
  {
   "cell_type": "code",
   "execution_count": 17,
   "id": "34823c9e-68b6-45c8-893b-31ea8a0a1f4f",
   "metadata": {
    "tags": []
   },
   "outputs": [
    {
     "name": "stdout",
     "output_type": "stream",
     "text": [
      "Two contact points of 2 Tangents to Parabola 2 are: \n",
      " (x1,y1)= (-0.689600203277837, 0.973221315622593) \n",
      " (x2,y2)= (0.516815959237654, -0.487930563160611)\n"
     ]
    }
   ],
   "source": [
    "## 2 set of x_eq & y_eq points at 2nd Parabola P1\n",
    "\n",
    "eq_subs_10  = sym.Eq(P1-L10,0)    ## Equation after substituion of Tangent 1 in 2nd Parabola \n",
    "eq_subs_11  = sym.Eq(P1-L11,0)    ## Equation after substituion of Tangent 2 in 2nd Parabola\n",
    "\n",
    "x_eq_12_0 = sym.solve([eq_subs_10],(x))   ## x_eq i.e. x-Point where Tangent 1 meet 2nd Parabola\n",
    "x_eq_12_0 = sym.re(x_eq_12_0[0][0])         ## Taking real part if complex number arises in case \n",
    "y_eq_12_0 = m10 *x_eq_12_0 + c10              ## y_eq i.e. y-Point where Tangent 1 meet 2nd Parabola\n",
    "y_eq_12_0 = sym.re(y_eq_12_0)               ## Taking real part if complex number arises in case \n",
    "\n",
    "x_eq_12_1 = sym.solve([eq_subs_11],(x))   ## x_eq i.e. x-Point where Tangent 2 meet 2nd Parabola\n",
    "x_eq_12_1 = sym.re(x_eq_12_1[0][0])         ## Taking real part if complex number arises in case \n",
    "y_eq_12_1 = m11 *x_eq_12_1 + c11              ## y_eq i.e. y-Point where Tangent 2 meet 2nd Parabola\n",
    "y_eq_12_1 = sym.re(y_eq_12_1)               ## Taking real part if complex number arises in case \n",
    "\n",
    "print(f\"Two contact points of 2 Tangents to Parabola 2 are: \\n (x1,y1)= ({x_eq_12_0}, {y_eq_12_0}) \\n (x2,y2)= ({x_eq_12_1}, {y_eq_12_1})\")"
   ]
  },
  {
   "cell_type": "code",
   "execution_count": 18,
   "id": "1305e7b7-83ec-49ff-80d4-9d90f7c9963a",
   "metadata": {
    "tags": []
   },
   "outputs": [
    {
     "name": "stdout",
     "output_type": "stream",
     "text": [
      "Two contact points of 2 Tangents to Parabola 3 are: \n",
      " (x1,y1)= (-0.189551127058692, -0.0588631597402670) \n",
      " (x2,y2)= (0.0167669094669100, -0.308745407184664)\n"
     ]
    }
   ],
   "source": [
    "## 2 set of x_eq & y_eq points at 3rd Parabola P2\n",
    "\n",
    "eq_subs_20  = sym.Eq(P2-L10,0)    ## Equation after substituion of Tangent 1 in 3rd Parabola as shown above\n",
    "eq_subs_21  = sym.Eq(P2-L11,0)    ## Equation after substituion of Tangent 2 in 3rd Parabola\n",
    "\n",
    "x_eq_21_0 = sym.solve([eq_subs_20],(x))   ## x_eq i.e. x-Point where Tangent 1 meet 3rd Parabola\n",
    "x_eq_21_0 = sym.re(x_eq_21_0[0][0])         ## Taking real part if complex number arises in case \n",
    "y_eq_21_0 = m10 *x_eq_21_0 + c10              ## y_eq i.e. y-Point where Tangent 1 meet 3rd Parabola\n",
    "y_eq_21_0 = sym.re(y_eq_21_0)               ## Taking real part if complex number arises in case \n",
    "\n",
    "x_eq_21_1 = sym.solve([eq_subs_21],(x))   ## x_eq i.e. x-Point where Tangent 2 meet 3rd Parabola\n",
    "x_eq_21_1 = sym.re(x_eq_21_1[0][0])         ## Taking real part if complex number arises in case \n",
    "y_eq_21_1 = m11 *x_eq_21_1 + c11              ## y_eq i.e. y-Point where Tangent 2 meet 3rd Parabola\n",
    "y_eq_21_1 = sym.re(y_eq_21_1)               ## Taking real part if complex number arises in case \n",
    "\n",
    "print(f\"Two contact points of 2 Tangents to Parabola 3 are: \\n (x1,y1)= ({x_eq_21_0}, {y_eq_21_0}) \\n (x2,y2)= ({x_eq_21_1}, {y_eq_21_1})\")"
   ]
  },
  {
   "cell_type": "code",
   "execution_count": 19,
   "id": "742cafe5-a6fa-4c00-9385-ec2ba435c50e",
   "metadata": {
    "tags": []
   },
   "outputs": [
    {
     "name": "stdout",
     "output_type": "stream",
     "text": [
      "2 equilibrium points from 1st tangent to Both Parabolas: (x_eq1, x_eq2) = (-0.690, -0.190) \n",
      "2 equilibrium points from 2nd tangent to Both Parabolas: (x_eq1, x_eq2) = (0.517, 0.017) \n"
     ]
    }
   ],
   "source": [
    "## The contanct points of 2 Tangents at 2 curves are:\n",
    "\n",
    "print(f\"2 equilibrium points from 1st tangent to Both Parabolas: (x_eq1, x_eq2) = ({round(x_eq_12_0,3)}, {round(x_eq_21_0,3)}) \")\n",
    "print(f\"2 equilibrium points from 2nd tangent to Both Parabolas: (x_eq1, x_eq2) = ({round(x_eq_12_1,3)}, {round(x_eq_21_1,3)}) \")"
   ]
  },
  {
   "cell_type": "markdown",
   "id": "70e7fef8-a93e-49de-a3a0-bd77b57d8def",
   "metadata": {
    "tags": []
   },
   "source": [
    "# Third Calculation in the code\n",
    "# Tangent Between Third and First Parabola (P2 & P0)"
   ]
  },
  {
   "cell_type": "code",
   "execution_count": 20,
   "id": "61c6bde6-3798-4420-ae5d-bc06c8df6c11",
   "metadata": {
    "tags": []
   },
   "outputs": [
    {
     "data": {
      "text/latex": [
       "$\\displaystyle 16.534 c + \\left(- m - 0.4969472\\right)^{2} + 4.98624412929217 = 0$"
      ],
      "text/plain": [
       "Eq(16.534*c + (-m - 0.4969472)**2 + 4.98624412929217, 0)"
      ]
     },
     "metadata": {},
     "output_type": "display_data"
    },
    {
     "data": {
      "text/latex": [
       "$\\displaystyle 60.0 c + 400.4001 \\left(- 0.0499750124937531 m - 1\\right)^{2} - 364.2801 = 0$"
      ],
      "text/plain": [
       "Eq(60.0*c + 400.4001*(-0.0499750124937531*m - 1)**2 - 364.2801, 0)"
      ]
     },
     "metadata": {},
     "output_type": "display_data"
    }
   ],
   "source": [
    "D2 = calculate(a2,b2,c2)   ## Discriminant from 3rd Parabola\n",
    "D0 = calculate(a0,b0,c0)   ## Discriminant from 1st Parabola\n",
    "\n",
    "display(D2, D0)"
   ]
  },
  {
   "cell_type": "code",
   "execution_count": 21,
   "id": "4683833b-3353-4d9e-a769-ea027d096a2b",
   "metadata": {
    "tags": []
   },
   "outputs": [
    {
     "name": "stdout",
     "output_type": "stream",
     "text": [
      "[(-0.455438804407191, -0.301679392536401), (14.3066562157172, -13.5558798971287)]\n"
     ]
    }
   ],
   "source": [
    "result = sym.solve([D2,D0],(m,c))\n",
    "print(result)"
   ]
  },
  {
   "cell_type": "code",
   "execution_count": 22,
   "id": "c7e228f8-c393-42fb-be06-9022656a1ae4",
   "metadata": {
    "tags": []
   },
   "outputs": [],
   "source": [
    "m20, m21 =  result[0][0], result[1][0]\n",
    "c20, c21 = result[0][1], result[1][1]\n",
    "\n",
    "## 2 sets of common tangents lines equations are\n",
    "L20 = m20 * x + c20\n",
    "L21 = m21 * x + c21"
   ]
  },
  {
   "cell_type": "code",
   "execution_count": 23,
   "id": "06fc6e27-0976-4466-9395-a2a6531cfe4c",
   "metadata": {
    "tags": []
   },
   "outputs": [
    {
     "name": "stdout",
     "output_type": "stream",
     "text": [
      "Two contact points of 2 Tangents to 3rd Parabola P2 are: \n",
      " (x1,y1)= (0.00502097442758060, -0.303966139126658) \n",
      " (x2,y2)= (1.79068627261608, 12.0628529953936 ) \n"
     ]
    }
   ],
   "source": [
    "## 2 set of x_eq & y_eq points at 3rd Parabola P2\n",
    "\n",
    "eq_subs_20  = sym.Eq(P2-L20,0)    ## Equation after substituion of Tangent 1 in 3rd Parabola as shown above\n",
    "eq_subs_21  = sym.Eq(P2-L21,0)    ## Equation after substituion of Tangent 2 in 3rd Parabola\n",
    "\n",
    "x_eq_20_0 = sym.solve([eq_subs_20],(x))   ## x_eq i.e. x-Point where Tangent 1 meet 3rd Parabola\n",
    "x_eq_20_0 = sym.re(x_eq_20_0[0][0])         ## Taking real part if complex number arises in case \n",
    "y_eq_20_0 = m20 *x_eq_20_0 + c20              ## y_eq i.e. y-Point where Tangent 1 meet 3rd Parabola\n",
    "y_eq_20_0 = sym.re(y_eq_20_0)               ## Taking real part if complex number arises in case \n",
    "\n",
    "x_eq_20_1 = sym.solve([eq_subs_21],(x))   ## x_eq i.e. x-Point where Tangent 2 meet 3rd Parabola\n",
    "x_eq_20_1 = sym.re(x_eq_20_1[0][0])         ## Taking real part if complex number arises in case \n",
    "y_eq_20_1 = m21 *x_eq_20_1 + c21              ## y_eq i.e. y-Point where Tangent 2 meet 3rd Parabola\n",
    "y_eq_20_1 = sym.re(y_eq_20_1)               ## Taking real part if complex number arises in case \n",
    "\n",
    "print(f\"Two contact points of 2 Tangents to 3rd Parabola P2 are: \\n (x1,y1)= ({x_eq_20_0}, {y_eq_20_0}) \\n (x2,y2)= ({x_eq_20_1}, {y_eq_20_1} ) \")"
   ]
  },
  {
   "cell_type": "code",
   "execution_count": 24,
   "id": "76b63db4-41ee-4327-bdf4-b4ee68e9de46",
   "metadata": {
    "tags": []
   },
   "outputs": [
    {
     "name": "stdout",
     "output_type": "stream",
     "text": [
      "Two contact points of 2 Tangents to 1st Parabola P0 are: \n",
      " (x1,y1)= (0.651818706519760, -0.598542924924002) \n",
      " (x2,y2)= (1.14388854052391, 2.80934020124534)\n"
     ]
    }
   ],
   "source": [
    "## 2 set of x_eq & y_eq points at 1st Parabola P0\n",
    "\n",
    "eq_subs_00  = sym.Eq(P0-L20,0)    ## Equation after substituion of Tangent 1 in 3rd Parabola as shown above\n",
    "eq_subs_01  = sym.Eq(P0-L21,0)    ## Equation after substituion of Tangent 2 in 3rd Parabola\n",
    "\n",
    "x_eq_02_0 = sym.solve([eq_subs_00],(x))   ## x_eq i.e. x-Point where Tangent 1 meet 3rd Parabola\n",
    "x_eq_02_0 = sym.re(x_eq_02_0[0][0])         ## Taking real part if complex number arises in case \n",
    "y_eq_02_0 = m20 *x_eq_02_0 + c20              ## y_eq i.e. y-Point where Tangent 1 meet 3rd Parabola\n",
    "y_eq_02_0 = sym.re(y_eq_02_0)               ## Taking real part if complex number arises in case \n",
    "\n",
    "x_eq_02_1 = sym.solve([eq_subs_01],(x))   ## x_eq i.e. x-Point where Tangent 2 meet 3rd Parabola\n",
    "x_eq_02_1 = sym.re(x_eq_02_1[0][0])         ## Taking real part if complex number arises in case \n",
    "y_eq_02_1 = m21 *x_eq_02_1 + c21              ## y_eq i.e. y-Point where Tangent 2 meet 3rd Parabola\n",
    "y_eq_02_1 = sym.re(y_eq_02_1)               ## Taking real part if complex number arises in case \n",
    "\n",
    "print(f\"Two contact points of 2 Tangents to 1st Parabola P0 are: \\n (x1,y1)= ({x_eq_02_0}, {y_eq_02_0}) \\n (x2,y2)= ({x_eq_02_1}, {y_eq_02_1})\")\n"
   ]
  },
  {
   "cell_type": "code",
   "execution_count": 25,
   "id": "02518eef-d210-48b9-952b-6cc9e1b5859f",
   "metadata": {
    "tags": []
   },
   "outputs": [
    {
     "name": "stdout",
     "output_type": "stream",
     "text": [
      "2 equilibrium points from 1st tangent to Both Parabolas: (x_eq1, x_eq2) = (0.005, 0.652) \n",
      "2 equilibrium points from 2nd tangent to Both Parabolas: (x_eq1, x_eq2) = (1.791, 1.144) \n"
     ]
    }
   ],
   "source": [
    "## The contanct points of 2 Tangents at 2 curves are:\n",
    "\n",
    "print(f\"2 equilibrium points from 1st tangent to Both Parabolas: (x_eq1, x_eq2) = ({round(x_eq_20_0,3)}, {round(x_eq_02_0,3)}) \")\n",
    "print(f\"2 equilibrium points from 2nd tangent to Both Parabolas: (x_eq1, x_eq2) = ({round(x_eq_20_1,3)}, {round(x_eq_02_1,3)}) \")"
   ]
  },
  {
   "cell_type": "markdown",
   "id": "e3f3c953-3286-4c8c-9c70-8de675ebfc6d",
   "metadata": {
    "tags": []
   },
   "source": [
    "# Plotting"
   ]
  },
  {
   "cell_type": "code",
   "execution_count": 26,
   "id": "795ab28b-c95e-4065-a920-049845e547ae",
   "metadata": {
    "tags": []
   },
   "outputs": [
    {
     "data": {
      "image/png": "[encoded data removed]",
      "text/plain": [
       "<Figure size 1500x1000 with 1 Axes>"
      ]
     },
     "metadata": {},
     "output_type": "display_data"
    }
   ],
   "source": [
    "plt.rcParams[\"figure.figsize\"] = (15,10)\n",
    "X = np.linspace(0, 1, 1000)\n",
    "\n",
    "y0 = A0.value*(X-x01.value)**2 + B0.value*(X-x02.value) + C0.value\n",
    "y1 = A1.value*(X-x11.value)**2 + B1.value*(X-x12.value) + C1.value\n",
    "y2 = A2.value*(X-x21.value)**2 + B2.value*(X-x22.value) + C2.value\n",
    "\n",
    "## Parabolas\n",
    "plt.plot(X, y0, linewidth=3, ls='-', color= 'green', label =\"Parabola 1\")\n",
    "plt.plot(X, y1, linewidth=3, ls='-', color= 'red', label =\"Parabola 2\")\n",
    "plt.plot(X, y2, linewidth=3, ls='-', color= 'blue', label =\"Parabola 3\")\n",
    "\n",
    "## Tangents\n",
    "plt.plot([x_eq_01_0, x_eq_10_0], [y_eq_01_0, y_eq_10_0], color='black', marker='o', linestyle='dashed', linewidth=1, markersize=5)\n",
    "plt.plot([x_eq_01_1, x_eq_10_1], [y_eq_01_1, y_eq_10_1], color='blue', marker='o', linestyle='dashed', linewidth=1, markersize=5)\n",
    "\n",
    "plt.plot([x_eq_12_0, x_eq_21_0], [y_eq_12_0, y_eq_21_0], color='green', marker='o', linestyle='dashed', linewidth=1, markersize=5)\n",
    "plt.plot([x_eq_12_1, x_eq_21_1], [y_eq_12_1, y_eq_21_1], color='brown', marker='o', linestyle='dashed', linewidth=1, markersize=5)\n",
    "\n",
    "plt.plot([x_eq_20_0, x_eq_02_0], [y_eq_20_0, y_eq_02_0], color='magenta', marker='o', linestyle='dashed', linewidth=1, markersize=5)\n",
    "plt.plot([x_eq_20_1, x_eq_02_1], [y_eq_20_1, y_eq_02_1], color='orange', marker='o', linestyle='dashed', linewidth=1, markersize=5)\n",
    "\n",
    "## Points of common tangents on Parabola 1\n",
    "plt.annotate(\"A\",(x_eq_01_0, y_eq_01_0), size = 20, color ='black')\n",
    "plt.annotate(\"C\",(x_eq_01_1, y_eq_01_1), size = 20, color ='blue')\n",
    "plt.annotate(\"J\",(x_eq_02_0, y_eq_02_0), size = 20, color ='magenta')\n",
    "plt.annotate(\"L\",(x_eq_02_1, y_eq_02_1), size = 20, color='orange')\n",
    "\n",
    "## Points of common tangents on Parabola 2\n",
    "plt.annotate(\"B\",(x_eq_10_0, y_eq_10_0), size = 20, color=\"black\")\n",
    "plt.annotate(\"D\",(x_eq_10_1, y_eq_10_1), size = 20, color ='blue')\n",
    "plt.annotate(\"E\",(x_eq_12_0, y_eq_12_0), size = 20, color='green')\n",
    "plt.annotate(\"G\",(x_eq_12_1, y_eq_12_1), size = 20, color ='brown')\n",
    "\n",
    "## Points of common tangents on Parabola 3\n",
    "plt.annotate(\"F\",(x_eq_21_0, y_eq_21_0), size = 20, color='green')\n",
    "plt.annotate(\"H\",(x_eq_21_1, y_eq_21_1), size = 20, color ='brown')\n",
    "plt.annotate(\"I\",(x_eq_20_0, y_eq_20_0), size = 20, color ='magenta')\n",
    "plt.annotate(\"K\",(x_eq_20_1, y_eq_20_1), size = 20, color='orange')\n",
    "\n",
    "plt.text(x = 0,   y = -1.07,s= (\"Equilibirum Points:\"), size = 20)\n",
    "plt.text(x= 0,    y= -1.1,  s= (f\"A: {x_eq_01_0:.6f}\"), size = 10,  color ='black')  \n",
    "plt.text(x= 0.10, y= -1.1,  s= (f\"B: {x_eq_10_0:.6f}\"), size = 10, color ='black')\n",
    "plt.text(x= 0,    y= -1.12, s= (f\"C: {x_eq_01_1:.6f}\"), size = 10, color ='blue')\n",
    "plt.text(x= 0.10, y= -1.12, s= (f\"D: {x_eq_10_1:.6f}\"), size = 10, color ='blue')\n",
    "plt.text(x= 0.24, y= -1.1,  s= (f\"E: {x_eq_12_0:.6f}\"), size = 10, color='green')\n",
    "plt.text(x= 0.34, y= -1.1,  s= (f\"F: {x_eq_21_0:.6f}\"), size = 10, color='green')\n",
    "plt.text(x= 0.24, y= -1.12, s= (f\"G: {x_eq_12_1:.6f}\"), size = 10, color ='brown')\n",
    "plt.text(x= 0.34, y= -1.12, s= (f\"H: {x_eq_21_1:.6f}\"), size = 10, color ='brown')\n",
    "plt.text(x= 0.48, y= -1.1,  s= (f\"I: {x_eq_20_0:.6f}\"), size = 10, color ='magenta')\n",
    "plt.text(x= 0.58, y= -1.1,  s= (f\"J: {x_eq_02_0:.6f}\"), size = 10, color ='magenta')\n",
    "plt.text(x= 0.48, y= -1.12, s= (f\"K: {x_eq_20_1:.6f}\"), size = 10, color='orange')\n",
    "plt.text(x= 0.58, y= -1.12, s= (f\"L: {x_eq_02_1:.6f}\"), size = 10, color='orange')\n",
    "# matplotlib.pyplot.text(x, y, s, fontdict=None, **kwargs)\n",
    "\n",
    "plt.xlim(-0.01,1.01)\n",
    "plt.ylim(-1,0)\n",
    "plt.legend(loc='lower right')\n",
    "\n",
    "plt.title(loc='center', pad = 30.2,  label='Common Tangents to the Parabolas')\n",
    "plt.text(0,0.01, 'Parabola in the form of : $A(x-xi)^2+B(x-xj)+C$')\n",
    "plt.xlabel('X Value')\n",
    "plt.ylabel('Y Value')\n",
    "plt.grid()\n",
    "plt.savefig('Common_Tangent.jpg')\n",
    "plt.show()"
   ]
  },
  {
   "cell_type": "code",
   "execution_count": null,
   "id": "006f2c09-7eda-4edf-99e4-20d4bd61b701",
   "metadata": {},
   "outputs": [],
   "source": []
  }
 ],
 "metadata": {
  "kernelspec": {
   "display_name": "Python 3 (ipykernel)",
   "language": "python",
   "name": "python3"
  },
  "language_info": {
   "codemirror_mode": {
    "name": "ipython",
    "version": 3
   },
   "file_extension": ".py",
   "mimetype": "text/x-python",
   "name": "python",
   "nbconvert_exporter": "python",
   "pygments_lexer": "ipython3",
   "version": "3.10.6"
  }
 },
 "nbformat": 4,
 "nbformat_minor": 5
}
